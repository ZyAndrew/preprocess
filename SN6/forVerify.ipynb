{
 "cells": [
  {
   "cell_type": "code",
   "execution_count": 7,
   "source": [
    "import tifffile\n",
    "import cv2\n",
    "import os\n",
    "import os.path as osp\n",
    "import PIL\n",
    "import numpy as np\n",
    "import mylib.polSAR_utils as psu\n",
    "import mylib.image_utils as iu\n",
    "import mylib.labelme_utils as lu"
   ],
   "outputs": [],
   "metadata": {}
  },
  {
   "cell_type": "code",
   "execution_count": 19,
   "source": [
    "# mask\n",
    "path = r'/home/csl/code/preprocess/data/SN6_full/mask/SN6_Train_AOI_11_Rotterdam_PS-RGB_20190804111224_20190804111453_tile_8679.tif'\n",
    "a = cv2.imread(path, -1)\n",
    "a.dtype, a.shape, a.max(), a.min(), np.unique(a)"
   ],
   "outputs": [
    {
     "output_type": "execute_result",
     "data": {
      "text/plain": [
       "(dtype('uint8'), (900, 900), 255, 0, array([  0, 255], dtype=uint8))"
      ]
     },
     "metadata": {},
     "execution_count": 19
    }
   ],
   "metadata": {}
  },
  {
   "cell_type": "code",
   "execution_count": 21,
   "source": [
    "# new mask\n",
    "path = r'/home/csl/code/preprocess/data/SN6_full_mask/SN6_Train_AOI_11_Rotterdam_PS-RGB_20190804111224_20190804111453_tile_8679.png'\n",
    "a = cv2.imread(path, -1)\n",
    "a.dtype, a.shape, a.max(), a.min(), np.unique(a)"
   ],
   "outputs": [
    {
     "output_type": "execute_result",
     "data": {
      "text/plain": [
       "(dtype('uint8'), (900, 900, 3), 255, 0, array([  0, 255], dtype=uint8))"
      ]
     },
     "metadata": {},
     "execution_count": 21
    }
   ],
   "metadata": {}
  },
  {
   "cell_type": "code",
   "execution_count": 13,
   "source": [
    "# PS-RGB\n",
    "path = r'/home/csl/code/preprocess/data/SN6_full/PS-RGB/SN6_Train_AOI_11_Rotterdam_PS-RGB_20190804111224_20190804111453_tile_8679.tif'\n",
    "a = cv2.imread(path, -1)\n",
    "a.dtype, a.shape, a.max(), a.min()"
   ],
   "outputs": [
    {
     "output_type": "execute_result",
     "data": {
      "text/plain": [
       "(dtype('uint8'), (900, 900, 3), 255, 0)"
      ]
     },
     "metadata": {},
     "execution_count": 13
    }
   ],
   "metadata": {}
  },
  {
   "cell_type": "code",
   "execution_count": 15,
   "source": [
    "# SAR-intensity\n",
    "path = r'/home/csl/code/preprocess/data/SN6_full/SAR-Intensity/SN6_Train_AOI_11_Rotterdam_SAR-Intensity_20190804111224_20190804111453_tile_8679.tif'\n",
    "a = cv2.imread(path, -1)\n",
    "a.dtype, a.shape, a.max(), a.min()"
   ],
   "outputs": [
    {
     "output_type": "execute_result",
     "data": {
      "text/plain": [
       "(dtype('float32'), (900, 900, 4), 82.7011, 0.0)"
      ]
     },
     "metadata": {},
     "execution_count": 15
    }
   ],
   "metadata": {}
  },
  {
   "cell_type": "code",
   "execution_count": 17,
   "source": [
    "# SAR-processed\n",
    "path = r'/home/csl/code/preprocess/data/SN6_full/SAR-PRO/SN6_Train_AOI_11_Rotterdam_SAR-Intensity_20190804111224_20190804111453_tile_8679.tif'\n",
    "a = cv2.imread(path, -1)\n",
    "a.dtype, a.shape, a.max(), a.min()"
   ],
   "outputs": [
    {
     "output_type": "execute_result",
     "data": {
      "text/plain": [
       "(dtype('uint8'), (900, 900, 3), 255, 0)"
      ]
     },
     "metadata": {},
     "execution_count": 17
    }
   ],
   "metadata": {}
  },
  {
   "cell_type": "code",
   "execution_count": 18,
   "source": [
    "# SAR-unlabeled\n",
    "path = r'/home/csl/code/preprocess/data/SN6_full/SAR-ul/SN6_Test_Public_AOI_11_Rotterdam_SAR-Intensity_20190804111224_20190804111453_tile_8697.tif'\n",
    "a = cv2.imread(path, -1)\n",
    "a.dtype, a.shape, a.max(), a.min()"
   ],
   "outputs": [
    {
     "output_type": "execute_result",
     "data": {
      "text/plain": [
       "(dtype('uint8'), (900, 900, 3), 255, 0)"
      ]
     },
     "metadata": {},
     "execution_count": 18
    }
   ],
   "metadata": {}
  }
 ],
 "metadata": {
  "orig_nbformat": 4,
  "language_info": {
   "name": "python",
   "version": "3.7.11",
   "mimetype": "text/x-python",
   "codemirror_mode": {
    "name": "ipython",
    "version": 3
   },
   "pygments_lexer": "ipython3",
   "nbconvert_exporter": "python",
   "file_extension": ".py"
  },
  "kernelspec": {
   "name": "python3",
   "display_name": "Python 3.7.11 64-bit ('mmseg_017': conda)"
  },
  "interpreter": {
   "hash": "a70604198d53240cd67a67316bd74633427687e38845a3585edce2d89413a10b"
  }
 },
 "nbformat": 4,
 "nbformat_minor": 2
}