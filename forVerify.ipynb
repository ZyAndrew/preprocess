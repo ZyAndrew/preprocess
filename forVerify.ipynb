{
 "metadata": {
  "language_info": {
   "codemirror_mode": {
    "name": "ipython",
    "version": 3
   },
   "file_extension": ".py",
   "mimetype": "text/x-python",
   "name": "python",
   "nbconvert_exporter": "python",
   "pygments_lexer": "ipython3",
   "version": "3.7.6"
  },
  "orig_nbformat": 2,
  "kernelspec": {
   "name": "python376jvsc74a57bd08eb2f6e763956fc64419c0b949adefb352abce8a0e6f77456a2c7d154e940ff0",
   "display_name": "Python 3.7.6 64-bit ('base': conda)",
   "language": "python"
  }
 },
 "nbformat": 4,
 "nbformat_minor": 2,
 "cells": [
  {
   "cell_type": "code",
   "execution_count": 1,
   "metadata": {},
   "outputs": [],
   "source": [
    "import os\n",
    "import os.path as osp\n",
    "\n",
    "import torch\n",
    "import numpy as np \n",
    "\n",
    "from mylib import labelme_utils as lu \n",
    "from mylib import polSAR_utils as psr"
   ]
  },
  {
   "cell_type": "code",
   "execution_count": 2,
   "metadata": {},
   "outputs": [],
   "source": [
    "path = r'data/PolSAR_building_det/data/GF3/mainama/20180627/HAalpha'\n",
    "a = np.load(osp.join(path, 'unnormed.npy'))"
   ]
  },
  {
   "cell_type": "code",
   "execution_count": 3,
   "metadata": {},
   "outputs": [
    {
     "output_type": "execute_result",
     "data": {
      "text/plain": [
       "(0, 0)"
      ]
     },
     "metadata": {},
     "execution_count": 3
    }
   ],
   "source": [
    "num_nan = np.isnan(a).sum()\n",
    "num_inf = np.isinf(a).sum()\n",
    "num_nan, num_inf"
   ]
  },
  {
   "cell_type": "code",
   "execution_count": 7,
   "metadata": {},
   "outputs": [
    {
     "output_type": "execute_result",
     "data": {
      "text/plain": [
       "'/data/csl/PolSAR_building_det/PCA_3'"
      ]
     },
     "metadata": {},
     "execution_count": 7
    }
   ],
   "source": [
    "path = r'/data/csl/PolSAR_building_det/zscored/GF3'\n",
    "model_path = osp.split(osp.split(path)[0])[0]\n",
    "osp.join(model_path, f'PCA_{3}')"
   ]
  },
  {
   "cell_type": "code",
   "execution_count": 2,
   "metadata": {},
   "outputs": [
    {
     "output_type": "error",
     "ename": "TypeError",
     "evalue": "unsupported operand type(s) for +: 'int' and 'NoneType'",
     "traceback": [
      "\u001b[0;31m---------------------------------------------------------------------------\u001b[0m",
      "\u001b[0;31mTypeError\u001b[0m                                 Traceback (most recent call last)",
      "\u001b[0;32m<ipython-input-2-63df842030b8>\u001b[0m in \u001b[0;36m<module>\u001b[0;34m\u001b[0m\n\u001b[1;32m      1\u001b[0m \u001b[0ma\u001b[0m \u001b[0;34m=\u001b[0m \u001b[0mnp\u001b[0m\u001b[0;34m.\u001b[0m\u001b[0marange\u001b[0m\u001b[0;34m(\u001b[0m\u001b[0;36m4\u001b[0m\u001b[0;34m)\u001b[0m\u001b[0;34m\u001b[0m\u001b[0;34m\u001b[0m\u001b[0m\n\u001b[1;32m      2\u001b[0m \u001b[0mb\u001b[0m \u001b[0;34m=\u001b[0m \u001b[0;32mNone\u001b[0m\u001b[0;34m\u001b[0m\u001b[0;34m\u001b[0m\u001b[0m\n\u001b[0;32m----> 3\u001b[0;31m \u001b[0ma\u001b[0m\u001b[0;34m+\u001b[0m\u001b[0mb\u001b[0m\u001b[0;34m\u001b[0m\u001b[0;34m\u001b[0m\u001b[0m\n\u001b[0m",
      "\u001b[0;31mTypeError\u001b[0m: unsupported operand type(s) for +: 'int' and 'NoneType'"
     ]
    }
   ],
   "source": [
    "a = np.arange(4)\n",
    "b = None\n",
    "a+b"
   ]
  },
  {
   "cell_type": "code",
   "execution_count": 20,
   "metadata": {},
   "outputs": [
    {
     "output_type": "execute_result",
     "data": {
      "text/plain": [
       "(array([[1, 2],\n",
       "        [3, 4]]),\n",
       " array([[1, 2],\n",
       "        [1, 2],\n",
       "        [1, 2],\n",
       "        [1, 2],\n",
       "        [3, 4],\n",
       "        [3, 4],\n",
       "        [3, 4],\n",
       "        [3, 4]]),\n",
       " array([[1, 2],\n",
       "        [3, 4],\n",
       "        [1, 2],\n",
       "        [3, 4],\n",
       "        [1, 2],\n",
       "        [3, 4]]))"
      ]
     },
     "metadata": {},
     "execution_count": 20
    }
   ],
   "source": [
    "x = np.array([[1,2],[3,4]])\n",
    "b = np.repeat(x, 4, axis=0)\n",
    "c = np.tile(x, (3, 1))\n",
    "x, b, c"
   ]
  },
  {
   "cell_type": "code",
   "execution_count": 21,
   "metadata": {},
   "outputs": [
    {
     "output_type": "execute_result",
     "data": {
      "text/plain": [
       "(array([[ 1,  2],\n",
       "        [ 3, 10]]),\n",
       " array([[1, 2],\n",
       "        [1, 2],\n",
       "        [1, 2],\n",
       "        [1, 2],\n",
       "        [3, 4],\n",
       "        [3, 4],\n",
       "        [3, 4],\n",
       "        [3, 4]]),\n",
       " array([[1, 2],\n",
       "        [3, 4],\n",
       "        [1, 2],\n",
       "        [3, 4],\n",
       "        [1, 2],\n",
       "        [3, 4]]))"
      ]
     },
     "metadata": {},
     "execution_count": 21
    }
   ],
   "source": [
    "x[1,1]=10\n",
    "x, b, c"
   ]
  },
  {
   "cell_type": "code",
   "execution_count": null,
   "metadata": {},
   "outputs": [],
   "source": [
    "a = np.arange(6).reshape(2,3)\n",
    "b = np.tile(a, )"
   ]
  },
  {
   "cell_type": "code",
   "execution_count": 18,
   "metadata": {},
   "outputs": [
    {
     "output_type": "execute_result",
     "data": {
      "text/plain": [
       "(array([ 3893179,  3777938,  3528564,  2970715,  2690573,  2421288,\n",
       "         2182400,  1752256,  1807065, 82782270]),\n",
       " array([  0.,  10.,  20.,  30.,  40.,  50.,  60.,  70.,  80.,  90., 100.],\n",
       "       dtype=float32))"
      ]
     },
     "metadata": {},
     "execution_count": 18
    }
   ],
   "source": [
    "c3 = psr.read_c3('/data/csl/SAR_CD/GF3/data/E132_N34_日本安芸/降轨/2/20170531/C3', out='complex_vector_6')\n",
    "c3 = np.abs(c3)\n",
    "c3[c3>100] = 100\n",
    "# c3[c3<np.finfo]=np.finfo\n",
    "# c3 = np.log(c3)\n",
    "np.histogram(c3)"
   ]
  },
  {
   "cell_type": "code",
   "execution_count": 3,
   "metadata": {},
   "outputs": [
    {
     "output_type": "execute_result",
     "data": {
      "text/plain": [
       "array([5632, 2048], dtype=int32)"
      ]
     },
     "metadata": {},
     "execution_count": 3
    }
   ],
   "source": [
    "img_shape = [6946, 4096]\n",
    "slice_idx = 92\n",
    "patch_shape = [512, 512]\n",
    "lu.get_corrds_from_slice_idx(img_shape=img_shape, patch_shape=patch_shape, slice_idx=slice_idx)"
   ]
  },
  {
   "cell_type": "code",
   "execution_count": 19,
   "metadata": {},
   "outputs": [
    {
     "output_type": "execute_result",
     "data": {
      "text/plain": [
       "array([[[ 6.9514550e-02+0.0000000e+00j]],\n",
       "\n",
       "       [[-7.6923570e-06+1.7181954e-04j]],\n",
       "\n",
       "       [[ 2.4461713e-02-5.2470178e-03j]],\n",
       "\n",
       "       [[ 1.7439649e-02+0.0000000e+00j]],\n",
       "\n",
       "       [[-6.4297354e-05-5.8014892e-05j]],\n",
       "\n",
       "       [[ 6.3866749e-02+0.0000000e+00j]]], dtype=complex64)"
      ]
     },
     "metadata": {},
     "execution_count": 19
    }
   ],
   "source": [
    "a=np.load(r'data/SAR_CD/GF3/data/E132_N34_日本安芸/升轨/2/20170723/C3/complex_vector_6_mean.npy')\n",
    "a"
   ]
  }
 ]
}