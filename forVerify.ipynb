{
 "metadata": {
  "language_info": {
   "codemirror_mode": {
    "name": "ipython",
    "version": 3
   },
   "file_extension": ".py",
   "mimetype": "text/x-python",
   "name": "python",
   "nbconvert_exporter": "python",
   "pygments_lexer": "ipython3",
   "version": "3.7.6-final"
  },
  "orig_nbformat": 2,
  "kernelspec": {
   "name": "python3",
   "display_name": "Python 3.7.6 64-bit ('base': conda)",
   "metadata": {
    "interpreter": {
     "hash": "8eb2f6e763956fc64419c0b949adefb352abce8a0e6f77456a2c7d154e940ff0"
    }
   }
  }
 },
 "nbformat": 4,
 "nbformat_minor": 2,
 "cells": [
  {
   "cell_type": "code",
   "execution_count": 3,
   "metadata": {},
   "outputs": [],
   "source": [
    "import numpy as np \n",
    "from mylib import labelme_utils as lu \n",
    "from mylib import polSAR_utils as psr\n"
   ]
  },
  {
   "cell_type": "code",
   "execution_count": 18,
   "metadata": {},
   "outputs": [
    {
     "output_type": "execute_result",
     "data": {
      "text/plain": [
       "(array([ 3893179,  3777938,  3528564,  2970715,  2690573,  2421288,\n",
       "         2182400,  1752256,  1807065, 82782270]),\n",
       " array([  0.,  10.,  20.,  30.,  40.,  50.,  60.,  70.,  80.,  90., 100.],\n",
       "       dtype=float32))"
      ]
     },
     "metadata": {},
     "execution_count": 18
    }
   ],
   "source": [
    "c3 = psr.read_c3('/data/csl/SAR_CD/GF3/data/E132_N34_日本安芸/降轨/2/20170531/C3', out='complex_vector_6')\n",
    "c3 = np.abs(c3)\n",
    "c3[c3>100] = 100\n",
    "# c3[c3<np.finfo]=np.finfo\n",
    "# c3 = np.log(c3)\n",
    "np.histogram(c3)"
   ]
  },
  {
   "cell_type": "code",
   "execution_count": 3,
   "metadata": {},
   "outputs": [
    {
     "output_type": "execute_result",
     "data": {
      "text/plain": [
       "array([5632, 2048], dtype=int32)"
      ]
     },
     "metadata": {},
     "execution_count": 3
    }
   ],
   "source": [
    "img_shape = [6946, 4096]\n",
    "slice_idx = 92\n",
    "patch_shape = [512, 512]\n",
    "lu.get_corrds_from_slice_idx(img_shape=img_shape, patch_shape=patch_shape, slice_idx=slice_idx)"
   ]
  },
  {
   "cell_type": "code",
   "execution_count": 19,
   "metadata": {},
   "outputs": [
    {
     "output_type": "execute_result",
     "data": {
      "text/plain": [
       "array([[[ 6.9514550e-02+0.0000000e+00j]],\n",
       "\n",
       "       [[-7.6923570e-06+1.7181954e-04j]],\n",
       "\n",
       "       [[ 2.4461713e-02-5.2470178e-03j]],\n",
       "\n",
       "       [[ 1.7439649e-02+0.0000000e+00j]],\n",
       "\n",
       "       [[-6.4297354e-05-5.8014892e-05j]],\n",
       "\n",
       "       [[ 6.3866749e-02+0.0000000e+00j]]], dtype=complex64)"
      ]
     },
     "metadata": {},
     "execution_count": 19
    }
   ],
   "source": [
    "a=np.load(r'data/SAR_CD/GF3/data/E132_N34_日本安芸/升轨/2/20170723/C3/complex_vector_6_mean.npy')\n",
    "a"
   ]
  }
 ]
}