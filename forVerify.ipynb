{
 "metadata": {
  "language_info": {
   "codemirror_mode": {
    "name": "ipython",
    "version": 3
   },
   "file_extension": ".py",
   "mimetype": "text/x-python",
   "name": "python",
   "nbconvert_exporter": "python",
   "pygments_lexer": "ipython3",
   "version": "3.7.8"
  },
  "orig_nbformat": 2,
  "kernelspec": {
   "name": "python3",
   "display_name": "Python 3.7.8 64-bit ('solaris': conda)"
  },
  "interpreter": {
   "hash": "c40829e689bd77714f64ac71058ec403bb209dd3fc27b27789a42a6829da2c4d"
  }
 },
 "nbformat": 4,
 "nbformat_minor": 2,
 "cells": [
  {
   "cell_type": "code",
   "execution_count": 2,
   "source": [
    "import os\n",
    "import os.path as osp\n",
    "\n",
    "import torch\n",
    "import numpy as np \n",
    "import tifffile\n",
    "from glob import glob\n",
    "import matplotlib.pyplot as plt\n",
    "from mylib import labelme_utils as lu \n",
    "import mylib.image_utils as iu\n",
    "# from mylib import polSAR_utils as psr\n",
    "import re\n",
    "import cv2\n",
    "import xml.etree.ElementTree as et\n",
    "import h5py"
   ],
   "outputs": [],
   "metadata": {}
  },
  {
   "cell_type": "code",
   "execution_count": 3,
   "source": [
    "img_shape = np.array([3456, 6543])\n",
    "patch_shape = np.array([512, 512])\n",
    "lu.get_corrds_from_slice_idx(img_shape, patch_shape, 22)"
   ],
   "outputs": [
    {
     "output_type": "execute_result",
     "data": {
      "text/plain": [
       "array([ 512, 4608], dtype=int32)"
      ]
     },
     "metadata": {},
     "execution_count": 3
    }
   ],
   "metadata": {}
  },
  {
   "cell_type": "code",
   "execution_count": 6,
   "source": [
    "path = r'data/S2Looking/train/label1/1.png'\n",
    "a = cv2.imread(path, -1)"
   ],
   "outputs": [],
   "metadata": {}
  },
  {
   "cell_type": "code",
   "execution_count": 7,
   "source": [
    "a.shape, a.min(), a.max()"
   ],
   "outputs": [
    {
     "output_type": "execute_result",
     "data": {
      "text/plain": [
       "((1024, 1024, 3), 0, 255)"
      ]
     },
     "metadata": {},
     "execution_count": 7
    }
   ],
   "metadata": {}
  },
  {
   "cell_type": "code",
   "execution_count": 21,
   "source": [
    "path = r'/home/csl/code/preprocess/data/MGGF3jihuanBC20210427/GF3_KAS_QPSI_024808_W116.2_N37.0_20210427_L2_AHV_L20005617966/GF3_KAS_QPSI_024808_W116.2_N37.0_20210427_L2_AHV_L20005617966.meta.xml'\n",
    "tree = et.parse(path)\n",
    "root = tree.getroot()\n",
    "pfix = re.match('\\{.*\\}', root.tag)\n",
    "tt = 0\n",
    "for item in root.iter('CalibrationConst'):\n",
    "    print(item[0].text)"
   ],
   "outputs": [
    {
     "output_type": "stream",
     "name": "stdout",
     "text": [
      "28.810000\n"
     ]
    }
   ],
   "metadata": {}
  },
  {
   "cell_type": "code",
   "execution_count": 3,
   "source": [
    "path = r'/home/csl/code/preprocess/data/MGGF3jihuanBC20210427/GF3_KAS_QPSI_024808_W116.2_N36.9_20210427_L1A_AHV_L10005617654/C3'\n",
    "c3 = psr.read_c3(path)"
   ],
   "outputs": [],
   "metadata": {}
  },
  {
   "cell_type": "code",
   "execution_count": 4,
   "source": [
    "c3 = psr.as_format(c3)\n",
    "c3.dtype, c3.shape"
   ],
   "outputs": [
    {
     "output_type": "execute_result",
     "data": {
      "text/plain": [
       "dtype('complex64')"
      ]
     },
     "metadata": {},
     "execution_count": 4
    }
   ],
   "metadata": {}
  },
  {
   "cell_type": "code",
   "execution_count": 4,
   "source": [
    "folder = r'/home/csl/code/preprocess/data/MGGF3jihuanBC20210427/GF3_KAS_QPSI_024808_W116.2_N37.0_20210427_L2_AHV_L20005617966'\n",
    "file = r'GF3_KAS_QPSI_024808_W116.2_N37.0_20210427_L2_HH_L20005617966.tiff'\n",
    "img = tifffile.imread(osp.join(folder, file))"
   ],
   "outputs": [],
   "metadata": {}
  },
  {
   "cell_type": "code",
   "execution_count": 7,
   "source": [
    "img.shape, img.max(), img.min()"
   ],
   "outputs": [
    {
     "output_type": "execute_result",
     "data": {
      "text/plain": [
       "((12207, 10796), 65535, 0)"
      ]
     },
     "metadata": {},
     "execution_count": 7
    }
   ],
   "metadata": {}
  },
  {
   "cell_type": "code",
   "execution_count": null,
   "source": [
    "qualify_value = 1124.562378\n",
    "K_dB = 28.810000        # calibration const\n"
   ],
   "outputs": [],
   "metadata": {}
  },
  {
   "cell_type": "code",
   "execution_count": 7,
   "source": [
    "path = r'/data/csl/PolSAR_building_det/zscored/GF3'\n",
    "model_path = osp.split(osp.split(path)[0])[0]\n",
    "osp.join(model_path, f'PCA_{3}')"
   ],
   "outputs": [
    {
     "output_type": "execute_result",
     "data": {
      "text/plain": [
       "'/data/csl/PolSAR_building_det/PCA_3'"
      ]
     },
     "metadata": {},
     "execution_count": 7
    }
   ],
   "metadata": {}
  }
 ]
}