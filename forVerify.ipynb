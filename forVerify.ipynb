{
 "cells": [
  {
   "cell_type": "code",
   "execution_count": 1,
   "metadata": {},
   "outputs": [],
   "source": [
    "import os\n",
    "import os.path as osp\n",
    "\n",
    "import torch\n",
    "import numpy as np \n",
    "import tifffile\n",
    "from glob import glob\n",
    "import matplotlib.pyplot as plt\n",
    "from mylib import labelme_utils as lu \n",
    "import mylib.image_utils as iu\n",
    "# from mylib import polSAR_utils as psr\n",
    "import re\n",
    "import cv2\n",
    "import xml.etree.ElementTree as et\n",
    "import h5py\n",
    "from PIL import Image"
   ]
  },
  {
   "cell_type": "code",
   "execution_count": 7,
   "metadata": {},
   "outputs": [
    {
     "name": "stdout",
     "output_type": "stream",
     "text": [
      "[1, 2, 3, 2, 3, 4] [2, 3, 4] None\n"
     ]
    }
   ],
   "source": [
    "a = [1,2,3]\n",
    "b = [2,3,4]\n",
    "c = a.extend(b)\n",
    "print(a, b, c)"
   ]
  }
 ],
 "metadata": {
  "interpreter": {
   "hash": "a13abcd5fc4b82d7538c29a23148e6ecf4d54704133d281a3cb2544eaa10d252"
  },
  "kernelspec": {
   "display_name": "Python 3.7.8 64-bit ('solaris': conda)",
   "name": "python3"
  },
  "language_info": {
   "codemirror_mode": {
    "name": "ipython",
    "version": 3
   },
   "file_extension": ".py",
   "mimetype": "text/x-python",
   "name": "python",
   "nbconvert_exporter": "python",
   "pygments_lexer": "ipython3",
   "version": "3.7.8"
  },
  "orig_nbformat": 2
 },
 "nbformat": 4,
 "nbformat_minor": 2
}
