{
 "cells": [
  {
   "cell_type": "code",
   "execution_count": 6,
   "source": [
    "import mylib.labelme_utils as lu\n",
    "import os\n",
    "import os.path as osp\n",
    "import cv2\n",
    "import PIL\n",
    "import numpy as np"
   ],
   "outputs": [],
   "metadata": {}
  },
  {
   "cell_type": "code",
   "execution_count": 17,
   "source": [
    "path = r'/home/csl/code/preprocess/data/SAR_Seg/new/train_labels/1.png'\n",
    "path = r'/home/csl/code/preprocess/data/SAR_Seg/SAR_Seg_3/band4/train/1.png'\n",
    "img = PIL.Image.open(path)\n",
    "a = np.asarray(img)\n",
    "# a = cv2.imread(path, -1)\n",
    "a.max(), a.min(), a.dtype, a.shape, a"
   ],
   "outputs": [
    {
     "output_type": "execute_result",
     "data": {
      "text/plain": [
       "(255,\n",
       " 0,\n",
       " dtype('uint8'),\n",
       " (512, 512, 4),\n",
       " array([[[131, 133,  12, 110],\n",
       "         [122, 147, 135, 131],\n",
       "         [102, 197, 180, 147],\n",
       "         ...,\n",
       "         [ 69, 104, 162, 154],\n",
       "         [ 36, 137, 124, 183],\n",
       "         [ 31, 163,  32, 172]],\n",
       " \n",
       "        [[151, 165,  36, 167],\n",
       "         [150, 173, 104, 170],\n",
       "         [143, 190, 116, 198],\n",
       "         ...,\n",
       "         [ 75, 175, 116, 184],\n",
       "         [100, 189,  78, 196],\n",
       "         [100, 173,  12, 169]],\n",
       " \n",
       "        [[137, 187, 100, 177],\n",
       "         [177, 184,  88, 155],\n",
       "         [200, 193,  83, 177],\n",
       "         ...,\n",
       "         [120, 208,  52, 191],\n",
       "         [166, 209,  83, 175],\n",
       "         [153, 179, 124,  95]],\n",
       " \n",
       "        ...,\n",
       " \n",
       "        [[102, 249, 147, 229],\n",
       "         [ 77, 255, 174, 255],\n",
       "         [122, 246, 124, 223],\n",
       "         ...,\n",
       "         [ 36, 119,  78, 108],\n",
       "         [ 22,  68,  36, 119],\n",
       "         [147,  65, 107,  65]],\n",
       " \n",
       "        [[ 80, 219, 147, 160],\n",
       "         [124, 245, 139, 204],\n",
       "         [117, 201,  98, 173],\n",
       "         ...,\n",
       "         [ 36,  71,  17,  62],\n",
       "         [ 65,  57,  27, 112],\n",
       "         [170,  36,  86,  76]],\n",
       " \n",
       "        [[ 69, 164, 109, 131],\n",
       "         [139, 195, 102, 155],\n",
       "         [ 91, 129,  86, 143],\n",
       "         ...,\n",
       "         [ 86, 112,  27,  76],\n",
       "         [ 93,  92,  83,  65],\n",
       "         [175,  44, 144,  65]]], dtype=uint8))"
      ]
     },
     "metadata": {},
     "execution_count": 17
    }
   ],
   "metadata": {}
  }
 ],
 "metadata": {
  "orig_nbformat": 4,
  "language_info": {
   "name": "python",
   "version": "3.7.6",
   "mimetype": "text/x-python",
   "codemirror_mode": {
    "name": "ipython",
    "version": 3
   },
   "pygments_lexer": "ipython3",
   "nbconvert_exporter": "python",
   "file_extension": ".py"
  },
  "kernelspec": {
   "name": "python3",
   "display_name": "Python 3.7.6 64-bit ('base': conda)"
  },
  "interpreter": {
   "hash": "8eb2f6e763956fc64419c0b949adefb352abce8a0e6f77456a2c7d154e940ff0"
  }
 },
 "nbformat": 4,
 "nbformat_minor": 2
}